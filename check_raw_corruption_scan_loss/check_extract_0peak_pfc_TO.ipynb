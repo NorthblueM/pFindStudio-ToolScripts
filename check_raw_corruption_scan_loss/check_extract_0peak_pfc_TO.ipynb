{
 "cells": [
  {
   "cell_type": "markdown",
   "metadata": {},
   "source": [
    "## check raw corruption and scan loss\n",
    "*  @Data: May 13th, 2025\n",
    "*  @Author: maopengzhi@foxmail.com"
   ]
  },
  {
   "cell_type": "markdown",
   "metadata": {},
   "source": [
    "## Usage Instructions:\n",
    "\n",
    "* Replace `<dpath>` with your folder path containing raw files\n",
    "* Requires pLink3 to have completed spectra extraction\n",
    "* Three error types:\n",
    "  1. Missing scans\n",
    "  2. Partially corrupted\n",
    "  3. Unable to open\n",
    "* Output file: `raw_info_and_error.csv`\n",
    "  * `raw_error=1` indicates a corrupted raw file\n",
    "  * The `rate0` column shows the proportion of missing scans"
   ]
  },
  {
   "cell_type": "code",
   "execution_count": null,
   "metadata": {},
   "outputs": [],
   "source": [
    "import pandas as pd\n",
    "from pathlib import Path\n",
    "from tqdm import tqdm\n",
    "\n",
    "pd.set_option('display.max_colwidth', 100) \n",
    "pd.set_option('display.width', 100)"
   ]
  },
  {
   "cell_type": "code",
   "execution_count": null,
   "metadata": {},
   "outputs": [],
   "source": [
    "# raw folder after pLink3 extraction\n",
    "dpath = r'E:\\data'\n",
    "\n",
    "fpaths = [str(x) for x in Path(dpath).glob('*.pfc')]\n",
    "print(len(fpaths))"
   ]
  },
  {
   "cell_type": "code",
   "execution_count": null,
   "metadata": {},
   "outputs": [],
   "source": [
    "df_ls = []\n",
    "for fpath in tqdm(fpaths):\n",
    "    df = pd.read_csv(fpath, sep='\\t')\n",
    "    df['file'] = Path(fpath).name\n",
    "    df_ls.append(df)\n",
    "\n",
    "df = pd.concat(df_ls, ignore_index=True)\n",
    "print(df.shape)\n",
    "print(df.columns)"
   ]
  },
  {
   "cell_type": "code",
   "execution_count": null,
   "metadata": {},
   "outputs": [],
   "source": [
    "# ms2\n",
    "df2 = df[df['SpectrumType'] == 'MS2']"
   ]
  },
  {
   "cell_type": "markdown",
   "metadata": {},
   "source": [
    "## ratio of MS2 to MS1"
   ]
  },
  {
   "cell_type": "code",
   "execution_count": null,
   "metadata": {},
   "outputs": [],
   "source": [
    "df_mstype = df.groupby(['file'])['SpectrumType'].apply(lambda x: x.value_counts(normalize=True)).reset_index()\n",
    "\n",
    "df_mstype.columns = ['file', 'SpectrumType', 'ratio']\n",
    "df_mstype"
   ]
  },
  {
   "cell_type": "code",
   "execution_count": null,
   "metadata": {},
   "outputs": [],
   "source": [
    "with pd.option_context('display.max_rows', None, 'display.max_columns', None):\n",
    "    _df = df_mstype[df_mstype['SpectrumType'] == 'MS1'].reset_index(drop=True)\n",
    "    _df['ratio'] = _df['ratio'].apply(lambda x: f'{x:.0%}')\n",
    "    display(_df)"
   ]
  },
  {
   "cell_type": "code",
   "execution_count": null,
   "metadata": {},
   "outputs": [],
   "source": [
    "# output\n",
    "\n",
    "df_out = df_mstype.pivot(index='file', columns='SpectrumType', values='ratio')\n",
    "df_out.columns = [f\"{c}_ratio\" for c in df_out.columns]\n",
    "df_out = df_out.reset_index()\n",
    "df_out"
   ]
  },
  {
   "cell_type": "markdown",
   "metadata": {},
   "source": [
    "## scan loss, peaks=0"
   ]
  },
  {
   "cell_type": "code",
   "execution_count": null,
   "metadata": {},
   "outputs": [],
   "source": [
    "df0 = df[df['NumberofPeaks']==0]\n",
    "print(df0.shape)\n",
    "print(df0['file'].nunique())\n",
    "\n",
    "ser0 = df0['file'].value_counts().sort_index()\n",
    "print(ser0)"
   ]
  },
  {
   "cell_type": "code",
   "execution_count": null,
   "metadata": {},
   "outputs": [],
   "source": [
    "df20 = df0[df0['SpectrumType']=='MS2']\n",
    "print(df20.shape)\n",
    "print(df0['file'].nunique())\n",
    "\n",
    "ser0_ms2 = df20['file'].value_counts().sort_index()\n",
    "print(ser0_ms2)"
   ]
  },
  {
   "cell_type": "code",
   "execution_count": null,
   "metadata": {},
   "outputs": [],
   "source": [
    "# proportion of zero spectral peaks\n",
    "\n",
    "df_rate0 = df.groupby(['file'])['NumberofPeaks'].apply(lambda x: (x == 0).sum() / x.shape[0]).reset_index(name='rate0')\n",
    "\n",
    "print(sum(df_rate0['rate0'] > 0.0))\n",
    "\n",
    "ser0_rate = df_rate0[df_rate0['rate0'] > 0.0].sort_values(['file'])\n",
    "ser0_rate"
   ]
  },
  {
   "cell_type": "code",
   "execution_count": null,
   "metadata": {},
   "outputs": [],
   "source": [
    "# output\n",
    "\n",
    "def add_col(x, ser):\n",
    "    if x in ser.index:\n",
    "        return ser[x]\n",
    "    else:\n",
    "        return 0\n",
    "\n",
    "df_out['peak0'] = df_out['file'].apply(lambda x: add_col(x, ser0))\n",
    "df_out['peak0_ms2'] = df_out['file'].apply(lambda x: add_col(x, ser0_ms2))\n",
    "df_out['rate0'] = df_out['file'].apply(lambda x: add_col(x, ser0_rate.set_index('file')['rate0']))\n",
    "df_out"
   ]
  },
  {
   "cell_type": "markdown",
   "metadata": {},
   "source": [
    "## scan max & number"
   ]
  },
  {
   "cell_type": "code",
   "execution_count": null,
   "metadata": {},
   "outputs": [],
   "source": [
    "_df = df.groupby(['file'])['ScanNo'].apply(lambda x: [x.nunique(), x.max()])\n",
    "\n",
    "df_cnt = pd.DataFrame(_df.tolist(), index=_df.index, columns=['n', 'max'])\n",
    "df_cnt = df_cnt.reset_index()\n",
    "df_cnt['equel_max_n'] = df_cnt['n'] == df_cnt['max']\n",
    "print(df_cnt['equel_max_n'].value_counts())"
   ]
  },
  {
   "cell_type": "code",
   "execution_count": null,
   "metadata": {},
   "outputs": [],
   "source": [
    "df_cnt[~df_cnt['equel_max_n']]"
   ]
  },
  {
   "cell_type": "code",
   "execution_count": null,
   "metadata": {},
   "outputs": [],
   "source": [
    "df_cnt[df_cnt['n']==0]"
   ]
  },
  {
   "cell_type": "code",
   "execution_count": null,
   "metadata": {},
   "outputs": [],
   "source": [
    "# output\n",
    "\n",
    "_df = df_cnt.set_index('file')\n",
    "df_out['scan_num'] = df_out['file'].apply(lambda x: add_col(x, _df['n']))\n",
    "df_out['scan_max'] = df_out['file'].apply(lambda x: add_col(x, _df['max']))\n",
    "df_out['scan_equel'] = df_out['file'].apply(lambda x: add_col(x, _df['equel_max_n']))\n",
    "df_out['scan_equel'] = df_out['scan_equel'].astype(int)\n",
    "\n",
    "df_out"
   ]
  },
  {
   "cell_type": "markdown",
   "metadata": {},
   "source": [
    "## unable open"
   ]
  },
  {
   "cell_type": "code",
   "execution_count": null,
   "metadata": {},
   "outputs": [],
   "source": [
    "ls_fname_raw = []\n",
    "ls_fname_raw = [str(x.stem) for x in Path(dpath).glob('*.raw')]\n",
    "\n",
    "print(len(ls_fname_raw))\n",
    "\n",
    "ls_fname_error = []\n",
    "\n",
    "\n",
    "ls_fstem = list([Path(x).stem for x in df['file'].unique()])\n",
    "\n",
    "ls_fname_error = set(ls_fname_raw) - set(ls_fstem)\n",
    "print(len(ls_fname_error))\n",
    "\n",
    "print(ls_fname_error)"
   ]
  },
  {
   "cell_type": "code",
   "execution_count": null,
   "metadata": {},
   "outputs": [],
   "source": [
    "# output\n",
    "\n",
    "df_out['can_open'] = 1\n",
    "\n",
    "file_idx = list(df_out.columns).index('file')\n",
    "ls_ls = []\n",
    "for fname in ls_fname_error:\n",
    "    ls = [0]*len(df_out.columns)\n",
    "    ls[file_idx] = fname+'.pfc'\n",
    "    ls_ls.append(ls)\n",
    "\n",
    "df_out = pd.concat([df_out, pd.DataFrame(ls_ls, columns=df_out.columns)], ignore_index=True)\n",
    "    \n",
    "df_out"
   ]
  },
  {
   "cell_type": "markdown",
   "metadata": {},
   "source": [
    "## incomplete raw"
   ]
  },
  {
   "cell_type": "code",
   "execution_count": null,
   "metadata": {},
   "outputs": [],
   "source": [
    "ls_raw = []\n",
    "\n",
    "print('---'*3, '# spectra peaks = 0')\n",
    "ls_peak0 = [str(Path(x).stem) for x in df_rate0[df_rate0['rate0'] > 0.0]['file'].unique()]\n",
    "print(len(ls_peak0))\n",
    "ls_raw.extend(ls_peak0)\n",
    "ls_raw = list(set(ls_raw))\n",
    "print(len(ls_raw))\n",
    "\n",
    "print('---'*3, '# pfc incomplete')\n",
    "ls_incomplete = [str(Path(x).stem) for x in df_cnt[~df_cnt['equel_max_n']]['file'].unique()]\n",
    "print(len(ls_incomplete))\n",
    "ls_raw.extend(ls_incomplete)\n",
    "ls_raw = list(set(ls_raw))\n",
    "print(len(ls_raw))\n",
    "\n",
    "print('---'*3, '# unable to open')\n",
    "print(len(ls_fname_error))\n",
    "ls_raw.extend(ls_fname_error)\n",
    "ls_raw = list(set(ls_raw))\n",
    "print(len(ls_raw))"
   ]
  },
  {
   "cell_type": "code",
   "execution_count": null,
   "metadata": {},
   "outputs": [],
   "source": [
    "df_out['file'] = df_out['file'].apply(lambda x: Path(x).stem)\n",
    "\n",
    "def is_error(x):\n",
    "\n",
    "    if x['rate0'] > 0.0:\n",
    "        return 1\n",
    "    if x['scan_equel'] == 0:\n",
    "        return 1\n",
    "    if x['can_open'] == 0:\n",
    "        return 1\n",
    "    \n",
    "    return 0\n",
    "\n",
    "df_out['raw_error'] = df_out.apply(is_error, axis=1)\n",
    "\n",
    "df_out['peak0_ms1'] = df_out['peak0'] - df_out['peak0_ms2']\n",
    "\n",
    "df_out"
   ]
  },
  {
   "cell_type": "code",
   "execution_count": null,
   "metadata": {},
   "outputs": [],
   "source": [
    "print(df_out['raw_error'].value_counts())"
   ]
  },
  {
   "cell_type": "code",
   "execution_count": null,
   "metadata": {},
   "outputs": [],
   "source": [
    "# df_out = pd.DataFrame(sorted(ls_raw), columns=['file'])\n",
    "\n",
    "fpath_out = (Path(dpath) / 'raw_info_and_error.csv')\n",
    "\n",
    "df_out.to_csv(fpath_out, index=False)"
   ]
  }
 ],
 "metadata": {
  "kernelspec": {
   "display_name": "py312",
   "language": "python",
   "name": "python3"
  },
  "language_info": {
   "codemirror_mode": {
    "name": "ipython",
    "version": 3
   },
   "file_extension": ".py",
   "mimetype": "text/x-python",
   "name": "python",
   "nbconvert_exporter": "python",
   "pygments_lexer": "ipython3",
   "version": "3.12.8"
  }
 },
 "nbformat": 4,
 "nbformat_minor": 2
}
