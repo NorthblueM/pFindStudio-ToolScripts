{
 "cells": [
  {
   "cell_type": "markdown",
   "metadata": {},
   "source": [
    "* @Date    : Sep 12, 2020\n",
    "* @Author  : Peng-Zhi Mao, maopengzhi@foxmail.com"
   ]
  },
  {
   "cell_type": "code",
   "execution_count": null,
   "metadata": {},
   "outputs": [],
   "source": [
    "import fasta_file\n",
    "\n",
    "import importlib\n",
    "importlib.reload(fasta_file)"
   ]
  },
  {
   "cell_type": "code",
   "execution_count": null,
   "metadata": {},
   "outputs": [],
   "source": [
    "fpath_fasta = r'F:\\fasta\\UP20250410_human20402.fasta'\n",
    "fpath_pfind = r'F:\\pFindTask\\result\\pFind-Filtered.spectra'\n",
    "fpath_out = fpath_fasta.replace('.fasta', '_pFindReduce.fasta')\n",
    "\n",
    "fasta_file.build_fasta_pfind_spectra(fpath_fasta, fpath_pfind, fpath_out)"
   ]
  }
 ],
 "metadata": {
  "kernelspec": {
   "display_name": "py312",
   "language": "python",
   "name": "python3"
  },
  "language_info": {
   "codemirror_mode": {
    "name": "ipython",
    "version": 3
   },
   "file_extension": ".py",
   "mimetype": "text/x-python",
   "name": "python",
   "nbconvert_exporter": "python",
   "pygments_lexer": "ipython3",
   "version": "3.12.8"
  }
 },
 "nbformat": 4,
 "nbformat_minor": 2
}
